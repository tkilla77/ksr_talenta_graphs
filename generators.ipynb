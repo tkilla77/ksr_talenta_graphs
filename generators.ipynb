{
 "cells": [
  {
   "cell_type": "markdown",
   "metadata": {},
   "source": [
    "# Python Generators\n",
    "\n",
    "Erinnerung: mit dem `yield` Keyword wird eine Funktion automatisch zum [Generator](https://en.wikipedia.org/wiki/Generator_(computer_programming)). Ein Generator ist ein Objekt, das iteriert werden kann, also als Ausdruck nach `in` in einer `for ... in <expression>` stehen kann.\n",
    "\n",
    "## Die Fibonacci-Folge\n",
    "\n",
    "Wir möchten wiederverwendbaren Code schreiben, der die Fibonacci-Folge generiert.\n",
    "\n",
    "Unser erster Versuch ist eine Funktion, die die ersten `n` Elemente der Fibonacci-Folge generiert und in einer Liste zurückgibt:"
   ]
  },
  {
   "cell_type": "code",
   "execution_count": 23,
   "metadata": {},
   "outputs": [
    {
     "name": "stdout",
     "output_type": "stream",
     "text": [
      "[1, 1, 2, 3, 5, 8, 13, 21, 34, 55]\n"
     ]
    }
   ],
   "source": [
    "def fibonacci(limit=10):\n",
    "    result = []\n",
    "    one = 0\n",
    "    two = 1\n",
    "    for i in range(limit):\n",
    "        one, two = two, one + two\n",
    "        result.append(one)\n",
    "    return result\n",
    "\n",
    "print(fibonacci(10))"
   ]
  },
  {
   "cell_type": "markdown",
   "metadata": {},
   "source": [
    "Das Problem ist nur, dass die Liste viel Speicher frisst, wenn wir eine grosse Anzahl Elemente benötigen. Beispiel: wir möchten die Summe der ersten `n` Fibonacci-Zahlen berechnen, ohne den Speicherplatz für die Liste aufzuwenden. Oder wir wissen gar nicht im Voraus, wieviele Elemente nötig sind, wenn wir zum Beispiel die erste Fibonacci-Zahl grösser als 1000 suchen.\n",
    "\n",
    "Natürlich könnten wir für beide Probleme eine eigene, effiziente Funktion schreiben, die ohne Liste auskommt - aber als faule Informatiker möchten wir es vermeiden, den gleichen Code zweimal zu schreiben...\n",
    "\n",
    "Gesucht ist also ein Stück Code, das einen _Strom_ von Fibonacci-Zahlen liefert, die wir kontinuierlich konsumieren können, bis wir genug haben.\n",
    "\n",
    "## Iteratoren\n",
    "\n",
    "Soche Objekte heissten _Iteratoren_. Ein Iterator hat nur eine einzige Funktion, `__next__`, die jeweils das nächste Element zurückgibt. Der Iterator muss sich irgendwie den Zustand merken, also wo in der Fibonacci-Folge er gerade steckt."
   ]
  },
  {
   "cell_type": "code",
   "execution_count": 26,
   "metadata": {},
   "outputs": [
    {
     "name": "stdout",
     "output_type": "stream",
     "text": [
      "Erste Fibonacci-Zahl grösser als 1000 ist 1597 (#17)\n"
     ]
    }
   ],
   "source": [
    "class FiboIterator:\n",
    "    def __init__(self):\n",
    "        self.one = 0\n",
    "        self.two = 1\n",
    "    \n",
    "    def __next__(self):\n",
    "        self.one, self.two = self.two, self.one + self.two\n",
    "        return self.one\n",
    "\n",
    "iterator = FiboIterator()\n",
    "res = 0\n",
    "count = 0\n",
    "while res < 1000:\n",
    "    res = next(iterator)  # Die eingebaute Funktion next ruft __next__ auf.\n",
    "    count += 1\n",
    "print(f'Erste Fibonacci-Zahl grösser als 1000 ist {res} (#{count})')\n"
   ]
  },
  {
   "cell_type": "markdown",
   "metadata": {},
   "source": [
    "# Iterables\n",
    "\n",
    "Möchten wir unseren Iterator in einer `for`-Schleife einsetzen, müssen wir zusätzlich das Iterable-Protokoll beachten: Iterables müssen eine `__iter__` Funktion haben, die einen neuen, von vorne beginnenden Iterator zurückgibt. Wieso benötigen wir sowohl Iterable als auch Iterator? Stell dir vor, eine Liste möchte das Iterable-Protokoll implementieren - es ist entscheidend, dass jede neue Schleife wieder von vorne beginnt:\n",
    "\n",
    "```python\n",
    "alphabet = 'abcdef'\n",
    "for letter1 in alphabet:      # Erster Iterator über die Sequence alphabet\n",
    "    for letter2 in alphabet:  # Zweiter, unabhängiger Iterator über die gleiche Sequence\n",
    "        print(letter1 + letters)\n",
    "```\n",
    "\n",
    "Spickzettel:\n",
    "  * `__iter__` wird einmal aufgerufen, wenn die `for`-Schleife startet.\n",
    "  * `__next__` wird vor jedem Schleifendurchgang aufgerufen und das Resultat der Schleifenvariable zugewiesen.\n",
    "\n",
    "Die Funktionen werden [hier beschrieben](https://docs.python.org/3/library/stdtypes.html#iterator-types]."
   ]
  },
  {
   "cell_type": "code",
   "execution_count": 29,
   "metadata": {},
   "outputs": [
    {
     "name": "stdout",
     "output_type": "stream",
     "text": [
      "Erste Fibonacci-Zahl grösser als 1000 ist 1597\n"
     ]
    }
   ],
   "source": [
    "\n",
    "class Fibo:\n",
    "    # Wird einmal aufgerufen, wenn Python den die for-Schleife startet.\n",
    "    def __iter__(self):\n",
    "        return FiboIterator()\n",
    "    \n",
    "sequence = Fibo()\n",
    "for num in sequence:\n",
    "    if num > 1000:\n",
    "        print(f'Erste Fibonacci-Zahl grösser als 1000 ist {res}')\n",
    "        break\n"
   ]
  },
  {
   "cell_type": "markdown",
   "metadata": {},
   "source": [
    "Falls die Werte berechnet werden, können `__iter__` und `__next__` auch von derselben Klasse implementiert werden.\n",
    "\n",
    "## Yield\n",
    "\n",
    "Das ganze leuchtet ein, aber ist ziemlich kompliziert. Mit einem Generator und `yield` wird alles viel kompakter."
   ]
  },
  {
   "cell_type": "code",
   "execution_count": 30,
   "metadata": {},
   "outputs": [
    {
     "name": "stdout",
     "output_type": "stream",
     "text": [
      "Erste Fibonacci-Zahl grösser als 1000 ist 1597\n"
     ]
    }
   ],
   "source": [
    "def fibo():\n",
    "    one = 0\n",
    "    two = 1\n",
    "    while True:\n",
    "        one, two = two, one + two\n",
    "        yield one\n",
    "\n",
    "for num in fibo():\n",
    "    if num > 1000:\n",
    "        print(f'Erste Fibonacci-Zahl grösser als 1000 ist {res}')\n",
    "        break\n"
   ]
  },
  {
   "cell_type": "markdown",
   "metadata": {},
   "source": [
    "### StopIteration\n",
    "\n",
    "Sind keine Elemente mehr übrig, wird einfach nichts zurückgegeben bzw. ein normales `return`:\n"
   ]
  },
  {
   "cell_type": "code",
   "execution_count": 33,
   "metadata": {},
   "outputs": [
    {
     "name": "stdout",
     "output_type": "stream",
     "text": [
      "1\n",
      "1\n",
      "2\n",
      "3\n",
      "5\n",
      "8\n",
      "13\n",
      "21\n",
      "34\n",
      "55\n",
      "Summe der ersten 100 Fibonacci-Zahlen: 927372692193078999175\n"
     ]
    }
   ],
   "source": [
    "def fibo(limit=-1):\n",
    "    one = 0\n",
    "    two = 1\n",
    "    while limit != 0:\n",
    "        limit -= 1\n",
    "        one, two = two, one + two\n",
    "        yield one\n",
    "\n",
    "for num in fibo(10):\n",
    "    print(num)\n",
    "\n",
    "n = 100\n",
    "print(f'Summe der ersten {n} Fibonacci-Zahlen: {sum(fibo(n))}')\n"
   ]
  },
  {
   "cell_type": "code",
   "execution_count": null,
   "metadata": {},
   "outputs": [],
   "source": []
  }
 ],
 "metadata": {
  "kernelspec": {
   "display_name": ".venv",
   "language": "python",
   "name": "python3"
  },
  "language_info": {
   "codemirror_mode": {
    "name": "ipython",
    "version": 3
   },
   "file_extension": ".py",
   "mimetype": "text/x-python",
   "name": "python",
   "nbconvert_exporter": "python",
   "pygments_lexer": "ipython3",
   "version": "3.12.2"
  }
 },
 "nbformat": 4,
 "nbformat_minor": 2
}
