{
 "cells": [
  {
   "cell_type": "markdown",
   "metadata": {},
   "source": [
    "# Iteratoren und Generatoren in Python\n",
    "\n",
    "Eine [Folge](https://de.wikipedia.org/wiki/Folge_(Mathematik)) ist in der Mathematik _eine Auflistung (Familie) von endlich oder unendlich vielen fortlaufend nummerierten Objekten (beispielsweise Zahlen)_. Nur, wie gehen wir praktisch in Python mit dieser Unendlichkeit um? Und könnte uns das Prinzip auch anderweitig weiterhelfen?\n",
    "\n",
    "## Die Fibonacci-Folge\n",
    "\n",
    "Wir möchten wiederverwendbaren Code schreiben, der die Fibonacci-Folge generiert.\n",
    "\n",
    "Unser erster Versuch ist eine Funktion, die die ersten `n` Elemente der Fibonacci-Folge generiert und in einer Liste zurückgibt:"
   ]
  },
  {
   "cell_type": "code",
   "execution_count": 23,
   "metadata": {},
   "outputs": [
    {
     "name": "stdout",
     "output_type": "stream",
     "text": [
      "[1, 1, 2, 3, 5, 8, 13, 21, 34, 55]\n"
     ]
    }
   ],
   "source": [
    "def fibonacci(limit=10):\n",
    "    result = []\n",
    "    one = 0\n",
    "    two = 1\n",
    "    for i in range(limit):\n",
    "        one, two = two, one + two\n",
    "        result.append(one)\n",
    "    return result\n",
    "\n",
    "print(fibonacci(10))"
   ]
  },
  {
   "cell_type": "markdown",
   "metadata": {},
   "source": [
    "Das Problem ist nur, dass die Liste viel Speicher frisst, wenn wir eine grosse Anzahl Elemente benötigen. Beispiel: wir möchten die Summe der ersten `n` Fibonacci-Zahlen berechnen, ohne den Speicherplatz für die Liste aufzuwenden. Oder wir wissen gar nicht im Voraus, wieviele Elemente nötig sind, wenn wir zum Beispiel die erste Fibonacci-Zahl grösser als 1000 suchen.\n",
    "\n",
    "Natürlich könnten wir für beide Probleme eine eigene, effiziente Funktion schreiben, die ohne Liste auskommt - aber als faule Informatiker möchten wir es vermeiden, den gleichen Code zweimal zu schreiben...\n",
    "\n",
    "Gesucht ist also ein Stück Code, das einen _Strom_ von Fibonacci-Zahlen liefert, die wir kontinuierlich konsumieren können, bis wir genug haben.\n",
    "\n",
    "## Iteratoren\n",
    "\n",
    "Soche Objekte heissten _Iteratoren_. Ein Iterator hat nur eine einzige Funktion, `__next__`, die jeweils das nächste Element zurückgibt. Der Iterator muss sich irgendwie den Zustand merken, also wo in der Fibonacci-Folge er gerade steckt. Die Funktion wirft eine `StopIteration` Exception wenn es keine weiteren Elemente gibt.\n",
    "\n",
    "Die built-in function [`next`](https://docs.python.org/3/library/functions.html#next) kann verwendet werden, um aus einem Iterator das nächste Element zu holen."
   ]
  },
  {
   "cell_type": "code",
   "execution_count": 34,
   "metadata": {},
   "outputs": [
    {
     "name": "stdout",
     "output_type": "stream",
     "text": [
      "Erste Fibonacci-Zahl grösser als 1000 ist 1597 (#17)\n"
     ]
    }
   ],
   "source": [
    "class FiboIterator:\n",
    "    def __init__(self, limit = -1):\n",
    "        # Hier wird der Zustand gespeichert\n",
    "        self.one = 0\n",
    "        self.two = 1\n",
    "        self.limit = limit\n",
    "    \n",
    "    def __next__(self):\n",
    "        if self.limit == 0:\n",
    "            raise StopIteration()\n",
    "        self.one, self.two = self.two, self.one + self.two\n",
    "        self.limit -= 1\n",
    "        return self.one\n",
    "\n",
    "iterator = FiboIterator()\n",
    "res = 0\n",
    "count = 0\n",
    "while res < 1000:\n",
    "    res = next(iterator)  # Die eingebaute Funktion next ruft __next__ auf.\n",
    "    count += 1\n",
    "print(f'Erste Fibonacci-Zahl grösser als 1000 ist {res} (#{count})')\n"
   ]
  },
  {
   "cell_type": "markdown",
   "metadata": {},
   "source": [
    "# Iterables\n",
    "\n",
    "Möchten wir unseren Iterator in einer `for`-Schleife einsetzen, müssen wir zusätzlich das Iterable-Protokoll beachten: Iterables müssen eine `__iter__` Funktion haben, die einen neuen, von vorne beginnenden Iterator zurückgibt. Wieso benötigen wir sowohl Iterable als auch Iterator? Stell dir vor, eine Liste möchte das Iterable-Protokoll implementieren - es ist entscheidend, dass jede neue Schleife wieder von vorne beginnt:\n",
    "\n",
    "```python\n",
    "alphabet = 'abcdef'\n",
    "for letter1 in alphabet:      # Erster Iterator über die Sequence alphabet\n",
    "    for letter2 in alphabet:  # Zweiter, unabhängiger Iterator über die gleiche Sequence\n",
    "        print(letter1 + letters)\n",
    "```\n",
    "\n",
    "Spickzettel:\n",
    "  * `__iter__` wird einmal aufgerufen, wenn die `for`-Schleife startet.\n",
    "  * `__next__` wird vor jedem Schleifendurchgang aufgerufen und das Resultat der Schleifenvariable zugewiesen.\n",
    "\n",
    "Die Funktionen werden [hier beschrieben](https://docs.python.org/3/library/stdtypes.html#iterator-types)."
   ]
  },
  {
   "cell_type": "code",
   "execution_count": 37,
   "metadata": {},
   "outputs": [
    {
     "name": "stdout",
     "output_type": "stream",
     "text": [
      "Erste Fibonacci-Zahl grösser als 1000 ist 1597\n"
     ]
    }
   ],
   "source": [
    "\n",
    "class Fibo:\n",
    "    # Wird einmal aufgerufen, wenn Python den die for-Schleife startet.\n",
    "    def __iter__(self):\n",
    "        return FiboIterator()\n",
    "    \n",
    "sequence = Fibo()\n",
    "for num in sequence:\n",
    "    if num > 1000:\n",
    "        print(f'Erste Fibonacci-Zahl grösser als 1000 ist {num}')\n",
    "        break\n"
   ]
  },
  {
   "cell_type": "markdown",
   "metadata": {},
   "source": [
    "Falls die Werte berechnet werden, können `__iter__` und `__next__` auch von derselben Klasse implementiert werden.\n",
    "\n",
    "## Yield\n",
    "\n",
    "Das ganze leuchtet ein, aber ist ziemlich kompliziert. Mit einem Generator und `yield` wird alles viel kompakter. Sobald unsere Funktion `yield` verwendet, erzeugt Python automatisch einen _[Generator](https://en.wikipedia.org/wiki/Generator_(computer_programming))_, d.h. ein Objekt, das sowohl _Iterator_ als auch _Iterable_ ist und sich den ganzen Zustand der Funktion merkt, wenn ein Element mit `yield` zurückgegeben wird.\n",
    "\n",
    "Ein Generator kann damit auch als Ausdruck nach `in` in einer `for ... in <expression>` stehen."
   ]
  },
  {
   "cell_type": "code",
   "execution_count": 38,
   "metadata": {},
   "outputs": [
    {
     "name": "stdout",
     "output_type": "stream",
     "text": [
      "Erste Fibonacci-Zahl grösser als 1000 ist 1597\n"
     ]
    }
   ],
   "source": [
    "def fibo():\n",
    "    one = 0\n",
    "    two = 1\n",
    "    while True:\n",
    "        one, two = two, one + two\n",
    "        yield one\n",
    "\n",
    "for num in fibo():\n",
    "    if num > 1000:\n",
    "        print(f'Erste Fibonacci-Zahl grösser als 1000 ist {num}')\n",
    "        break\n"
   ]
  },
  {
   "cell_type": "markdown",
   "metadata": {},
   "source": [
    "### Iteration beenden\n",
    "\n",
    "Sind keine Elemente mehr übrig, wird einfach nichts zurückgegeben bzw. ein normales `return`:"
   ]
  },
  {
   "cell_type": "code",
   "execution_count": 57,
   "metadata": {},
   "outputs": [
    {
     "name": "stdout",
     "output_type": "stream",
     "text": [
      "1\n",
      "1\n",
      "2\n",
      "3\n",
      "5\n",
      "8\n",
      "13\n",
      "21\n",
      "34\n",
      "55\n",
      "Summe der ersten 100 Fibonacci-Zahlen: 927372692193078999175\n"
     ]
    }
   ],
   "source": [
    "def fibo(limit=-1):\n",
    "    one = 0\n",
    "    two = 1\n",
    "    while limit != 0:\n",
    "        limit -= 1\n",
    "        one, two = two, one + two\n",
    "        yield one\n",
    "\n",
    "for num in fibo(10):\n",
    "    print(num)\n",
    "\n",
    "n = 100\n",
    "print(f'Summe der ersten {n} Fibonacci-Zahlen: {sum(fibo(n))}')\n"
   ]
  },
  {
   "cell_type": "markdown",
   "metadata": {},
   "source": [
    "## Yield From\n",
    "\n",
    "Manchmal möchten wir eine andere Iteration (bzw. einen anderen Generator) in die gerade laufende Iteration einbinden. Dazu dienen die Keywords `yield from`.\n",
    "\n",
    "Beispiel: ein einfacher Binärbaum besteht aus Knoten (_en_: Nodes), die jeweils bis zu zwei Kinder haben können.\n",
    "\n",
    "Um den Baum zu traversieren (d.h. alle Knoten zu besuchen), können wir zum Beispiel die [In-Order Traversierung](https://de.wikipedia.org/wiki/Bin%C3%A4rbaum#Traversierung) wählen: Zuerst wird der linke Teilbaum durchlaufen, anschliessend der Knoten selbst, zum Schluss der rechte Teilbaum.\n",
    "\n",
    "Eine rekursive Umsetzung könnte wie folgt aussehen - beachte, wie `yield from` eingesetzt wird, um die rekursive Traversierung zu erreichen.\n"
   ]
  },
  {
   "cell_type": "code",
   "execution_count": 49,
   "metadata": {},
   "outputs": [
    {
     "data": {
      "image/svg+xml": [
       "<?xml version=\"1.0\" encoding=\"UTF-8\" standalone=\"no\"?>\n",
       "<!DOCTYPE svg PUBLIC \"-//W3C//DTD SVG 1.1//EN\"\n",
       " \"http://www.w3.org/Graphics/SVG/1.1/DTD/svg11.dtd\">\n",
       "<!-- Generated by graphviz version 10.0.1 (20240210.2158)\n",
       " -->\n",
       "<!-- Pages: 1 -->\n",
       "<svg width=\"170pt\" height=\"188pt\"\n",
       " viewBox=\"0.00 0.00 170.00 188.00\" xmlns=\"http://www.w3.org/2000/svg\" xmlns:xlink=\"http://www.w3.org/1999/xlink\">\n",
       "<g id=\"graph0\" class=\"graph\" transform=\"scale(1 1) rotate(0) translate(4 184)\">\n",
       "<polygon fill=\"white\" stroke=\"none\" points=\"-4,4 -4,-184 166,-184 166,4 -4,4\"/>\n",
       "<!-- 1 -->\n",
       "<g id=\"node1\" class=\"node\">\n",
       "<title>1</title>\n",
       "<ellipse fill=\"none\" stroke=\"black\" cx=\"27\" cy=\"-18\" rx=\"27\" ry=\"18\"/>\n",
       "<text text-anchor=\"middle\" x=\"27\" y=\"-12.95\" font-family=\"Times,serif\" font-size=\"14.00\">1</text>\n",
       "</g>\n",
       "<!-- 2 -->\n",
       "<g id=\"node2\" class=\"node\">\n",
       "<title>2</title>\n",
       "<ellipse fill=\"none\" stroke=\"black\" cx=\"63\" cy=\"-90\" rx=\"27\" ry=\"18\"/>\n",
       "<text text-anchor=\"middle\" x=\"63\" y=\"-84.95\" font-family=\"Times,serif\" font-size=\"14.00\">2</text>\n",
       "</g>\n",
       "<!-- 2&#45;&gt;1 -->\n",
       "<g id=\"edge3\" class=\"edge\">\n",
       "<title>2&#45;&gt;1</title>\n",
       "<path fill=\"none\" stroke=\"black\" d=\"M54.65,-72.76C50.42,-64.55 45.19,-54.37 40.42,-45.09\"/>\n",
       "<polygon fill=\"black\" stroke=\"black\" points=\"43.68,-43.79 36,-36.49 37.46,-46.99 43.68,-43.79\"/>\n",
       "</g>\n",
       "<!-- 3 -->\n",
       "<g id=\"node3\" class=\"node\">\n",
       "<title>3</title>\n",
       "<ellipse fill=\"none\" stroke=\"black\" cx=\"99\" cy=\"-18\" rx=\"27\" ry=\"18\"/>\n",
       "<text text-anchor=\"middle\" x=\"99\" y=\"-12.95\" font-family=\"Times,serif\" font-size=\"14.00\">3</text>\n",
       "</g>\n",
       "<!-- 2&#45;&gt;3 -->\n",
       "<g id=\"edge4\" class=\"edge\">\n",
       "<title>2&#45;&gt;3</title>\n",
       "<path fill=\"none\" stroke=\"black\" d=\"M71.35,-72.76C75.58,-64.55 80.81,-54.37 85.58,-45.09\"/>\n",
       "<polygon fill=\"black\" stroke=\"black\" points=\"88.54,-46.99 90,-36.49 82.32,-43.79 88.54,-46.99\"/>\n",
       "</g>\n",
       "<!-- 5 -->\n",
       "<g id=\"node4\" class=\"node\">\n",
       "<title>5</title>\n",
       "<ellipse fill=\"none\" stroke=\"black\" cx=\"99\" cy=\"-162\" rx=\"27\" ry=\"18\"/>\n",
       "<text text-anchor=\"middle\" x=\"99\" y=\"-156.95\" font-family=\"Times,serif\" font-size=\"14.00\">5</text>\n",
       "</g>\n",
       "<!-- 5&#45;&gt;2 -->\n",
       "<g id=\"edge1\" class=\"edge\">\n",
       "<title>5&#45;&gt;2</title>\n",
       "<path fill=\"none\" stroke=\"black\" d=\"M90.65,-144.76C86.42,-136.55 81.19,-126.37 76.42,-117.09\"/>\n",
       "<polygon fill=\"black\" stroke=\"black\" points=\"79.68,-115.79 72,-108.49 73.46,-118.99 79.68,-115.79\"/>\n",
       "</g>\n",
       "<!-- 7 -->\n",
       "<g id=\"node5\" class=\"node\">\n",
       "<title>7</title>\n",
       "<ellipse fill=\"none\" stroke=\"black\" cx=\"135\" cy=\"-90\" rx=\"27\" ry=\"18\"/>\n",
       "<text text-anchor=\"middle\" x=\"135\" y=\"-84.95\" font-family=\"Times,serif\" font-size=\"14.00\">7</text>\n",
       "</g>\n",
       "<!-- 5&#45;&gt;7 -->\n",
       "<g id=\"edge2\" class=\"edge\">\n",
       "<title>5&#45;&gt;7</title>\n",
       "<path fill=\"none\" stroke=\"black\" d=\"M107.35,-144.76C111.58,-136.55 116.81,-126.37 121.58,-117.09\"/>\n",
       "<polygon fill=\"black\" stroke=\"black\" points=\"124.54,-118.99 126,-108.49 118.32,-115.79 124.54,-118.99\"/>\n",
       "</g>\n",
       "</g>\n",
       "</svg>\n"
      ],
      "text/plain": [
       "<graphviz.graphs.Digraph at 0x1082a9460>"
      ]
     },
     "execution_count": 49,
     "metadata": {},
     "output_type": "execute_result"
    }
   ],
   "source": [
    "import graphviz\n",
    "\n",
    "# Create Digraph object\n",
    "dot = graphviz.Digraph()\n",
    "\n",
    "# Add nodes\n",
    "dot.node('1')\n",
    "dot.node('2')\n",
    "dot.node('3')\n",
    "dot.node('5')\n",
    "dot.node('7')\n",
    "\n",
    "# Add edges\n",
    "dot.edges(['52', '57', '21', '23'])\n",
    "\n",
    "# Visualize the graph\n",
    "dot"
   ]
  },
  {
   "cell_type": "code",
   "execution_count": 60,
   "metadata": {},
   "outputs": [
    {
     "name": "stdout",
     "output_type": "stream",
     "text": [
      "1\n",
      "5\n",
      "7\n"
     ]
    }
   ],
   "source": [
    "class Node:\n",
    "    def __init__(self, key, left=None, right=None):\n",
    "        self.key = key\n",
    "        self.left = left\n",
    "        self.right = right\n",
    "    \n",
    "    def in_order_traversal(self):\n",
    "        if self.left:\n",
    "            yield from self.left.in_order_traversal()\n",
    "        yield self\n",
    "        if self.right:\n",
    "            yield from self.right.in_order_traversal()\n",
    "\n",
    "\n",
    "tree = Node(5, Node(1), Node(7))\n",
    "\n",
    "for node in tree.in_order_traversal(): print (node.key)"
   ]
  },
  {
   "cell_type": "code",
   "execution_count": 59,
   "metadata": {},
   "outputs": [
    {
     "name": "stdout",
     "output_type": "stream",
     "text": [
      "(1, 1)\n",
      "(2, 1)\n",
      "(3, 2)\n",
      "(4, 3)\n",
      "(5, 5)\n",
      "(6, 8)\n",
      "(7, 13)\n",
      "(8, 21)\n",
      "(9, 34)\n",
      "(10, 55)\n"
     ]
    }
   ],
   "source": [
    "import itertools\n",
    "\n",
    "for n in enumerate(fibo(10), 1): print(n)"
   ]
  }
 ],
 "metadata": {
  "kernelspec": {
   "display_name": ".venv",
   "language": "python",
   "name": "python3"
  },
  "language_info": {
   "codemirror_mode": {
    "name": "ipython",
    "version": 3
   },
   "file_extension": ".py",
   "mimetype": "text/x-python",
   "name": "python",
   "nbconvert_exporter": "python",
   "pygments_lexer": "ipython3",
   "version": "3.12.2"
  }
 },
 "nbformat": 4,
 "nbformat_minor": 2
}
