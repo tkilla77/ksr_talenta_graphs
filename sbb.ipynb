{
 "cells": [
  {
   "cell_type": "markdown",
   "metadata": {},
   "source": [
    "### Analyze SBB Schedule Using Graph Algorithms\n",
    "\n",
    "We are going to employ the graph algorithms (BFS, shortest-path) to explore Swiss Railways schedules.\n",
    "\n",
    "#### Notes\n",
    "The code provides Swiss public transport stops as adjacency graph.\n",
    "\n",
    "Get the graph:"
   ]
  },
  {
   "cell_type": "code",
   "execution_count": 1,
   "metadata": {},
   "outputs": [],
   "source": [
    "import fahrplan\n",
    "sbb = fahrplan.latest"
   ]
  },
  {
   "cell_type": "markdown",
   "metadata": {},
   "source": [
    "Display some data:"
   ]
  },
  {
   "cell_type": "code",
   "execution_count": 2,
   "metadata": {},
   "outputs": [
    {
     "data": {
      "text/plain": [
       "33396"
      ]
     },
     "execution_count": 2,
     "metadata": {},
     "output_type": "execute_result"
    }
   ],
   "source": [
    "len(sbb)"
   ]
  },
  {
   "cell_type": "code",
   "execution_count": 3,
   "metadata": {},
   "outputs": [
    {
     "data": {
      "text/plain": [
       "{'Amriswil': 5,\n",
       " 'Egnach': 3,\n",
       " 'Kreuzlingen Hafen': 14,\n",
       " 'Neukirch-Egnach': 2,\n",
       " 'Romanshorn': 3,\n",
       " 'Romanshorn (See)': 5,\n",
       " 'Romanshorn Autoquai': 6,\n",
       " 'Romanshorn, Bahnhof': 3,\n",
       " 'St. Gallen': 18,\n",
       " 'Uttwil': 3,\n",
       " 'Wittenbach': 12}"
      ]
     },
     "execution_count": 3,
     "metadata": {},
     "output_type": "execute_result"
    }
   ],
   "source": [
    "sbb['Romanshorn']"
   ]
  },
  {
   "cell_type": "markdown",
   "metadata": {},
   "source": [
    "The graph contains direct non-stop connections between stops, including transfers, with connection time in minutes.\n",
    "\n",
    "The graph only records whether two stations are directly connected with each other by at least one connection. It omits any information on\n",
    "  * lines\n",
    "  * time of day\n",
    "  * service schedules\n",
    "\n",
    "So, some edges may be the consequence of special effects such as end-of-day connections, weekend night service, and the like.\n",
    "\n",
    "Also, since each edge distance is recorded in minutes from departure to arrival, concatenating multiple legs will underestimate actual travelling time, as the stop time\n",
    "is ignored.\n"
   ]
  },
  {
   "cell_type": "markdown",
   "metadata": {},
   "source": [
    "### Run Shortest-Path"
   ]
  },
  {
   "cell_type": "code",
   "execution_count": 7,
   "metadata": {},
   "outputs": [
    {
     "data": {
      "text/plain": [
       "{'path': [('Romanshorn', 0),\n",
       "  ('Amriswil', 5),\n",
       "  ('Weinfelden', 10),\n",
       "  ('Frauenfeld', 10),\n",
       "  ('Islikon', 3),\n",
       "  ('Rickenbach-Attikon', 2),\n",
       "  ('Wiesendangen', 1),\n",
       "  ('Oberwinterthur', 2),\n",
       "  ('Winterthur', 2),\n",
       "  ('Stettbach', 11),\n",
       "  ('Zürich Stadelhofen', 4),\n",
       "  ('Zürich HB', 2),\n",
       "  ('Olten', 28),\n",
       "  ('Bern', 26)],\n",
       " 'length': 106}"
      ]
     },
     "execution_count": 7,
     "metadata": {},
     "output_type": "execute_result"
    }
   ],
   "source": [
    "import graphs\n",
    "\n",
    "path = graphs.shortest_path(sbb, 'Romanshorn', 'Bern')\n",
    "path"
   ]
  },
  {
   "cell_type": "markdown",
   "metadata": {},
   "source": [
    "#### Visualize Stops"
   ]
  },
  {
   "cell_type": "code",
   "execution_count": 4,
   "metadata": {},
   "outputs": [],
   "source": [
    "from fahrplan import gtfs_reader\n",
    "stops = gtfs_reader.read_stops('fahrplan/gtfs_fp2025_2025-02-13', 'name')"
   ]
  },
  {
   "cell_type": "code",
   "execution_count": 33,
   "metadata": {},
   "outputs": [
    {
     "data": {
      "text/plain": [
       "[('Romanshorn', 47.565521, 9.37937276, 0),\n",
       " ('Amriswil', 47.55045031, 9.30222545, 5),\n",
       " ('Weinfelden', 47.56622411, 9.10636577, 10),\n",
       " ('Frauenfeld', 47.558162, 8.89656423, 10),\n",
       " ('Islikon', 47.54783705, 8.84619569, 3),\n",
       " ('Rickenbach-Attikon', 47.53535709, 8.78917064, 2),\n",
       " ('Wiesendangen', 47.52554326, 8.77603727, 1),\n",
       " ('Oberwinterthur', 47.50792471, 8.76038862, 2),\n",
       " ('Winterthur', 47.50033307, 8.7238182, 2),\n",
       " ('Stettbach', 47.39721255, 8.59614065, 11),\n",
       " ('Zürich Stadelhofen', 47.36661116, 8.54848503, 4),\n",
       " ('Zürich HB', 47.3781762, 8.54021154, 2),\n",
       " ('Olten', 47.3519337, 7.90769877, 28),\n",
       " ('Bern', 46.9488311, 7.43912853, 26)]"
      ]
     },
     "execution_count": 33,
     "metadata": {},
     "output_type": "execute_result"
    }
   ],
   "source": [
    "def read_stops(src, dest, algo=graphs.shortest_path):\n",
    "    path = algo(sbb, src, dest)\n",
    "    for stop in path['path']:\n",
    "        info = stops[stop[0]]\n",
    "        yield(info.name, float(info.lat), float(info.lon), stop[1])\n",
    "\n",
    "list(read_stops('Romanshorn', 'Bern'))\n",
    "\n"
   ]
  },
  {
   "cell_type": "code",
   "execution_count": 36,
   "metadata": {},
   "outputs": [
    {
     "data": {
      "text/html": [
       "<div style=\"width:100%;\"><div style=\"position:relative;width:100%;height:0;padding-bottom:60%;\"><span style=\"color:#565656\">Make this Notebook Trusted to load map: File -> Trust Notebook</span><iframe srcdoc=\"&lt;!DOCTYPE html&gt;\n",
       "&lt;html&gt;\n",
       "&lt;head&gt;\n",
       "    \n",
       "    &lt;meta http-equiv=&quot;content-type&quot; content=&quot;text/html; charset=UTF-8&quot; /&gt;\n",
       "    \n",
       "        &lt;script&gt;\n",
       "            L_NO_TOUCH = false;\n",
       "            L_DISABLE_3D = false;\n",
       "        &lt;/script&gt;\n",
       "    \n",
       "    &lt;style&gt;html, body {width: 100%;height: 100%;margin: 0;padding: 0;}&lt;/style&gt;\n",
       "    &lt;style&gt;#map {position:absolute;top:0;bottom:0;right:0;left:0;}&lt;/style&gt;\n",
       "    &lt;script src=&quot;https://cdn.jsdelivr.net/npm/leaflet@1.9.3/dist/leaflet.js&quot;&gt;&lt;/script&gt;\n",
       "    &lt;script src=&quot;https://code.jquery.com/jquery-3.7.1.min.js&quot;&gt;&lt;/script&gt;\n",
       "    &lt;script src=&quot;https://cdn.jsdelivr.net/npm/bootstrap@5.2.2/dist/js/bootstrap.bundle.min.js&quot;&gt;&lt;/script&gt;\n",
       "    &lt;script src=&quot;https://cdnjs.cloudflare.com/ajax/libs/Leaflet.awesome-markers/2.0.2/leaflet.awesome-markers.js&quot;&gt;&lt;/script&gt;\n",
       "    &lt;link rel=&quot;stylesheet&quot; href=&quot;https://cdn.jsdelivr.net/npm/leaflet@1.9.3/dist/leaflet.css&quot;/&gt;\n",
       "    &lt;link rel=&quot;stylesheet&quot; href=&quot;https://cdn.jsdelivr.net/npm/bootstrap@5.2.2/dist/css/bootstrap.min.css&quot;/&gt;\n",
       "    &lt;link rel=&quot;stylesheet&quot; href=&quot;https://netdna.bootstrapcdn.com/bootstrap/3.0.0/css/bootstrap-glyphicons.css&quot;/&gt;\n",
       "    &lt;link rel=&quot;stylesheet&quot; href=&quot;https://cdn.jsdelivr.net/npm/@fortawesome/fontawesome-free@6.2.0/css/all.min.css&quot;/&gt;\n",
       "    &lt;link rel=&quot;stylesheet&quot; href=&quot;https://cdnjs.cloudflare.com/ajax/libs/Leaflet.awesome-markers/2.0.2/leaflet.awesome-markers.css&quot;/&gt;\n",
       "    &lt;link rel=&quot;stylesheet&quot; href=&quot;https://cdn.jsdelivr.net/gh/python-visualization/folium/folium/templates/leaflet.awesome.rotate.min.css&quot;/&gt;\n",
       "    \n",
       "            &lt;meta name=&quot;viewport&quot; content=&quot;width=device-width,\n",
       "                initial-scale=1.0, maximum-scale=1.0, user-scalable=no&quot; /&gt;\n",
       "            &lt;style&gt;\n",
       "                #map_3bb24df9732b2c348538c9512fa3a802 {\n",
       "                    position: relative;\n",
       "                    width: 100.0%;\n",
       "                    height: 100.0%;\n",
       "                    left: 0.0%;\n",
       "                    top: 0.0%;\n",
       "                }\n",
       "                .leaflet-container { font-size: 1rem; }\n",
       "            &lt;/style&gt;\n",
       "        \n",
       "&lt;/head&gt;\n",
       "&lt;body&gt;\n",
       "    \n",
       "    \n",
       "            &lt;div class=&quot;folium-map&quot; id=&quot;map_3bb24df9732b2c348538c9512fa3a802&quot; &gt;&lt;/div&gt;\n",
       "        \n",
       "&lt;/body&gt;\n",
       "&lt;script&gt;\n",
       "    \n",
       "    \n",
       "            var map_3bb24df9732b2c348538c9512fa3a802 = L.map(\n",
       "                &quot;map_3bb24df9732b2c348538c9512fa3a802&quot;,\n",
       "                {\n",
       "                    center: [0.0, 0.0],\n",
       "                    crs: L.CRS.EPSG3857,\n",
       "                    ...{\n",
       "  &quot;zoom&quot;: 1,\n",
       "  &quot;zoomControl&quot;: true,\n",
       "  &quot;preferCanvas&quot;: false,\n",
       "}\n",
       "\n",
       "                }\n",
       "            );\n",
       "\n",
       "            \n",
       "\n",
       "        \n",
       "    \n",
       "            var tile_layer_ddde622d37c08012037db77451f406b9 = L.tileLayer(\n",
       "                &quot;https://tile.openstreetmap.org/{z}/{x}/{y}.png&quot;,\n",
       "                {\n",
       "  &quot;minZoom&quot;: 0,\n",
       "  &quot;maxZoom&quot;: 19,\n",
       "  &quot;maxNativeZoom&quot;: 19,\n",
       "  &quot;noWrap&quot;: false,\n",
       "  &quot;attribution&quot;: &quot;\\u0026copy; \\u003ca href=\\&quot;https://www.openstreetmap.org/copyright\\&quot;\\u003eOpenStreetMap\\u003c/a\\u003e contributors&quot;,\n",
       "  &quot;subdomains&quot;: &quot;abc&quot;,\n",
       "  &quot;detectRetina&quot;: false,\n",
       "  &quot;tms&quot;: false,\n",
       "  &quot;opacity&quot;: 1,\n",
       "}\n",
       "\n",
       "            );\n",
       "        \n",
       "    \n",
       "            tile_layer_ddde622d37c08012037db77451f406b9.addTo(map_3bb24df9732b2c348538c9512fa3a802);\n",
       "        \n",
       "    \n",
       "            var poly_line_7d4a05df421c4ae170f610133f7c4b7e = L.polyline(\n",
       "                [[47.565521, 9.37937276], [47.55045031, 9.30222545], [47.56622411, 9.10636577], [47.558162, 8.89656423], [47.54783705, 8.84619569], [47.53535709, 8.78917064], [47.52554326, 8.77603727], [47.50792471, 8.76038862], [47.50033307, 8.7238182], [47.39721255, 8.59614065], [47.36661116, 8.54848503], [47.3781762, 8.54021154], [47.3519337, 7.90769877], [46.9488311, 7.43912853]],\n",
       "                {&quot;bubblingMouseEvents&quot;: true, &quot;color&quot;: &quot;#3388ff&quot;, &quot;dashArray&quot;: null, &quot;dashOffset&quot;: null, &quot;fill&quot;: false, &quot;fillColor&quot;: &quot;#3388ff&quot;, &quot;fillOpacity&quot;: 0.2, &quot;fillRule&quot;: &quot;evenodd&quot;, &quot;lineCap&quot;: &quot;round&quot;, &quot;lineJoin&quot;: &quot;round&quot;, &quot;noClip&quot;: false, &quot;opacity&quot;: 1.0, &quot;smoothFactor&quot;: 1.0, &quot;stroke&quot;: true, &quot;weight&quot;: 3}\n",
       "            ).addTo(map_3bb24df9732b2c348538c9512fa3a802);\n",
       "        \n",
       "    \n",
       "            poly_line_7d4a05df421c4ae170f610133f7c4b7e.bindTooltip(\n",
       "                `&lt;div&gt;\n",
       "                     Dijkstra\n",
       "                 &lt;/div&gt;`,\n",
       "                {\n",
       "  &quot;sticky&quot;: true,\n",
       "}\n",
       "            );\n",
       "        \n",
       "    \n",
       "            var poly_line_adf544156963c4221a240df318b67a98 = L.polyline(\n",
       "                [[47.565521, 9.37937276], [47.42317726, 9.36989554], [47.45321735, 9.63825825], [47.3781762, 8.54021154], [46.9488311, 7.43912853]],\n",
       "                {&quot;bubblingMouseEvents&quot;: true, &quot;color&quot;: &quot;red&quot;, &quot;dashArray&quot;: null, &quot;dashOffset&quot;: null, &quot;fill&quot;: false, &quot;fillColor&quot;: &quot;red&quot;, &quot;fillOpacity&quot;: 0.2, &quot;fillRule&quot;: &quot;evenodd&quot;, &quot;lineCap&quot;: &quot;round&quot;, &quot;lineJoin&quot;: &quot;round&quot;, &quot;noClip&quot;: false, &quot;opacity&quot;: 1.0, &quot;smoothFactor&quot;: 1.0, &quot;stroke&quot;: true, &quot;weight&quot;: 3}\n",
       "            ).addTo(map_3bb24df9732b2c348538c9512fa3a802);\n",
       "        \n",
       "    \n",
       "            poly_line_adf544156963c4221a240df318b67a98.bindTooltip(\n",
       "                `&lt;div&gt;\n",
       "                     BFS\n",
       "                 &lt;/div&gt;`,\n",
       "                {\n",
       "  &quot;sticky&quot;: true,\n",
       "}\n",
       "            );\n",
       "        \n",
       "    \n",
       "            map_3bb24df9732b2c348538c9512fa3a802.fitBounds(\n",
       "                [[46.9488311, 7.43912853], [47.565521, 9.63825825]],\n",
       "                {}\n",
       "            );\n",
       "        \n",
       "&lt;/script&gt;\n",
       "&lt;/html&gt;\" style=\"position:absolute;width:100%;height:100%;left:0;top:0;border:none !important;\" allowfullscreen webkitallowfullscreen mozallowfullscreen></iframe></div></div>"
      ],
      "text/plain": [
       "<folium.folium.Map at 0x10a5d7110>"
      ]
     },
     "execution_count": 36,
     "metadata": {},
     "output_type": "execute_result"
    }
   ],
   "source": [
    "#%pip install folium geopandas\n",
    "import folium\n",
    "import folium.features\n",
    "import geopandas as gpd\n",
    "\n",
    "map = folium.Map()\n",
    "\n",
    "line1 = folium.features.PolyLine([(info[1], info[2]) for info in read_stops('Romanshorn', 'Bern', graphs.shortest_path)], tooltip=\"Dijkstra\").add_to(map)\n",
    "line2 = folium.features.PolyLine([(info[1], info[2]) for info in read_stops('Romanshorn', 'Bern', graphs.find_path_bfs)], tooltip=\"BFS\", color=\"red\").add_to(map)\n",
    "map.fit_bounds(line2.get_bounds())\n",
    "map"
   ]
  }
 ],
 "metadata": {
  "kernelspec": {
   "display_name": ".venv (3.12.9)",
   "language": "python",
   "name": "python3"
  },
  "language_info": {
   "codemirror_mode": {
    "name": "ipython",
    "version": 3
   },
   "file_extension": ".py",
   "mimetype": "text/x-python",
   "name": "python",
   "nbconvert_exporter": "python",
   "pygments_lexer": "ipython3",
   "version": "3.12.9"
  }
 },
 "nbformat": 4,
 "nbformat_minor": 2
}
